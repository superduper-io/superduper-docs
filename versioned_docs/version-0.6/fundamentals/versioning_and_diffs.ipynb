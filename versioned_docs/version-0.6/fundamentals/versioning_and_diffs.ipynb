{
 "cells": [
  {
   "cell_type": "markdown",
   "id": "a962062d-af7d-415a-919a-82fb132f8931",
   "metadata": {},
   "source": [
    "# Versioning and diffs"
   ]
  },
  {
   "cell_type": "markdown",
   "id": "90d215c0-8be8-4778-9b7a-c823960a11dc",
   "metadata": {},
   "source": [
    "`superduper` has a robust versioning and lineage system, to track the versions and changes of all components\n",
    "installed with `superduper`. This works using cryptographic techniques borrowed from blockchain and source version control."
   ]
  },
  {
   "cell_type": "markdown",
   "id": "74ec2ee6-88b1-4ae6-a871-670d39985830",
   "metadata": {},
   "source": [
    "Here is an illustrative example to show you how this works:"
   ]
  },
  {
   "cell_type": "code",
   "execution_count": null,
   "id": "ebdfabca-1446-4854-b73a-95f830a83bb9",
   "metadata": {},
   "outputs": [],
   "source": [
    "from superduper import Component\n",
    "import typing as t\n",
    "import pprint\n",
    "\n",
    "class MyClass(Component):\n",
    "    breaks = ()\n",
    "    a: str\n",
    "    b: int \n",
    "    c: t.Dict\n",
    "    d: t.Callable | None = None\n",
    "    e: Component | None = None\n",
    "\n",
    "my_instance_1 = MyClass('my_class', a='test', b=2, c={'testing': '123'}, d=lambda x: x + 1)\n",
    "my_instance_2 = MyClass('my_class', a='test', b=2, c={'testing': '456'}, d=lambda x: x + 2)"
   ]
  },
  {
   "cell_type": "markdown",
   "id": "1476e027-ff1c-4ea2-99b8-8e0b312b8fad",
   "metadata": {},
   "source": [
    "We have three key methods which `superduper` leverages under the hood:\n",
    "\n",
    "\n",
    "| Method | Description |\n",
    "| --- | --- |\n",
    "| `Component.diff` | Determines which parameters of the `Component` have changed |\n",
    "| `Component.hash` | Determines whether 2 `Component` instances are the same by parameter value |\n",
    "| `Component.uuid` | Determines whether 2 `Component` instances are the same by breaking changes; used as primary-id in storage. |\n",
    "\n",
    "`superduper` calls these methods when `db.apply` is executed, and used to determine whether to replace or update data, or to create a \n",
    "new version of the `Component` and execute its initialization jobs."
   ]
  },
  {
   "cell_type": "markdown",
   "id": "f0295a83-4e68-461e-b455-311ad77083f9",
   "metadata": {},
   "source": [
    "The `.diff` method returns in which parameters the 2 `Component` instances are different:"
   ]
  },
  {
   "cell_type": "code",
   "execution_count": null,
   "id": "60e3474e-ed98-45e9-b371-23243db143a4",
   "metadata": {},
   "outputs": [],
   "source": [
    "print(my_instance_1.diff(my_instance_2))\n",
    "# ['c', 'd']"
   ]
  },
  {
   "cell_type": "markdown",
   "id": "e568f1d1-dcc6-484b-a742-97fb6c203330",
   "metadata": {},
   "source": [
    "The cryptographic hash `.hash` determines whether the two components are equal. In this case there are 2 parameters \n",
    "which are different, so that the hashes are distinct:"
   ]
  },
  {
   "cell_type": "code",
   "execution_count": null,
   "id": "3c8e531f-a7d8-41bc-8288-4aac21f6a86c",
   "metadata": {},
   "outputs": [],
   "source": [
    "print(my_instance_1.hash == my_instance_2.hash)\n",
    "# False"
   ]
  },
  {
   "cell_type": "markdown",
   "id": "b7aa27c1-f9aa-48e4-a2f7-520055a249ae",
   "metadata": {},
   "source": [
    "The cryptographic hash `.uuid` determines whether the two components are equal when only considering breaking changes. \n",
    "You can see that, since this component has no breaking changes (`.breaks = ()`), the hashes are identical:"
   ]
  },
  {
   "cell_type": "code",
   "execution_count": null,
   "id": "a3fb876c-0357-4ebb-ba6c-b526d08022cf",
   "metadata": {},
   "outputs": [],
   "source": [
    "print(my_instance_1.uuid)\n",
    "# dbe131726b2b2fb896eb832b3fde10df\n",
    "\n",
    "print(my_instance_2.uuid == my_instance_1.uuid)\n",
    "# True"
   ]
  },
  {
   "cell_type": "markdown",
   "id": "65e9354c-70b5-4c5a-8e99-64d7e31a444f",
   "metadata": {},
   "source": [
    "Now we create a new component, which has breaking changes:"
   ]
  },
  {
   "cell_type": "code",
   "execution_count": null,
   "id": "86eab8f8-4987-4be8-9a7a-6b764c1d0b85",
   "metadata": {},
   "outputs": [],
   "source": [
    "from superduper import Component\n",
    "import typing as t\n",
    "import pprint\n",
    "\n",
    "class BreakingClass(Component):\n",
    "    breaks = ('c', 'e')\n",
    "    \n",
    "    a: str\n",
    "    b: int \n",
    "    c: t.Dict\n",
    "    d: t.Callable | None = None\n",
    "    e: Component | None = None\n",
    "\n",
    "my_breakable_1 = BreakingClass('my_class', a='test', b=2, c={'testing': '123'}, d=lambda x: x + 1)\n",
    "my_breakable_2 = BreakingClass('my_class', a='test', b=2, c={'testing': '456'}, d=lambda x: x + 2)"
   ]
  },
  {
   "cell_type": "markdown",
   "id": "cc068ce3-05f1-420a-ad77-2c2d90023479",
   "metadata": {},
   "source": [
    "In this case, you can see that the parameter `c` differs, so in this case the hashes differ:"
   ]
  },
  {
   "cell_type": "code",
   "execution_count": null,
   "id": "0a6da25e-3ee3-4c9c-a451-d5dd3bd534a3",
   "metadata": {},
   "outputs": [],
   "source": [
    "print(my_breakable_1.uuid == my_breakable_2.uuid)\n",
    "# False"
   ]
  },
  {
   "cell_type": "markdown",
   "id": "d28d25c5-13b5-460b-a9ba-a33b0cf0d61c",
   "metadata": {},
   "source": [
    "This also works recursively, so that breaking changes inside nested components propagate upwards:"
   ]
  },
  {
   "cell_type": "code",
   "execution_count": null,
   "id": "b388ea7d-4c82-48d5-b86e-87570b9e7612",
   "metadata": {},
   "outputs": [],
   "source": [
    "my_breakable_3 = BreakingClass('my_class', a='test', b=2, c={'testing': '123'}, e=my_breakable_1)\n",
    "my_breakable_4 = BreakingClass('my_class', a='test', b=2, c={'testing': '123'}, e=my_breakable_2)"
   ]
  },
  {
   "cell_type": "code",
   "execution_count": null,
   "id": "7e4ff28f-a984-4cf1-9ddb-a9826156f4c7",
   "metadata": {},
   "outputs": [],
   "source": [
    "print(my_breakable_3.diff(my_breakable_4))\n",
    "# ['e']"
   ]
  },
  {
   "cell_type": "markdown",
   "id": "5ddc7f07-3c97-41b2-a10a-1f837f5ac605",
   "metadata": {},
   "source": [
    "However, if the nested component contains only non-breaking changes, this is respected by the `.uuid` hash:"
   ]
  },
  {
   "cell_type": "code",
   "execution_count": null,
   "id": "69ab398f-00bd-48ce-ac61-5562e1b4afaa",
   "metadata": {},
   "outputs": [],
   "source": [
    "my_breakable_5 = BreakingClass('my_class', a='test', b=2, c={'testing': '123'}, e=my_instance_1)\n",
    "my_breakable_6 = BreakingClass('my_class', a='test', b=2, c={'testing': '123'}, e=my_instance_2)"
   ]
  },
  {
   "cell_type": "code",
   "execution_count": null,
   "id": "4577b758-8b01-4a66-b0d2-3080c1f20a56",
   "metadata": {},
   "outputs": [],
   "source": [
    "my_breakable_5.uuid == my_breakable_6.uuid\n",
    "\n",
    "# True"
   ]
  }
 ],
 "metadata": {
  "kernelspec": {
   "display_name": "Python 3 (ipykernel)",
   "language": "python",
   "name": "python3"
  },
  "language_info": {
   "codemirror_mode": {
    "name": "ipython",
    "version": 3
   },
   "file_extension": ".py",
   "mimetype": "text/x-python",
   "name": "python",
   "nbconvert_exporter": "python",
   "pygments_lexer": "ipython3",
   "version": "3.10.13"
  }
 },
 "nbformat": 4,
 "nbformat_minor": 5
}
