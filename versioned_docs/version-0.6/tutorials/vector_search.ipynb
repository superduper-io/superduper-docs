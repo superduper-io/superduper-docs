{
 "cells": [
  {
   "cell_type": "markdown",
   "id": "d67881c9-38c0-44ef-a05c-95fd68a9c3ce",
   "metadata": {},
   "source": [
    "# Vector search\n",
    "\n",
    ":::note\n",
    "Since vector-search is all-the-rage right now, \n",
    "here is the simplest possible iteration of semantic \n",
    "text-search with a `sentence_transformers` model, \n",
    "as an entrypoint to `superduper`.\n",
    "\n",
    "Note that `superduper` is much-much more than vector-search\n",
    "on text. Explore the docs to read about classical machine learning, \n",
    "computer vision, LLMs, fine-tuning and much much more!\n",
    ":::\n"
   ]
  },
  {
   "cell_type": "markdown",
   "id": "61876ec8-f58c-467e-9ecc-54f2e19cc91d",
   "metadata": {},
   "source": [
    "First let's get some data. These data are the markdown files \n",
    "of the very same documentation you are reading!\n",
    "You can download other sample data-sets for testing `superduper`\n",
    "by following [these lines of code](../reusable_snippets/get_useful_sample_data)."
   ]
  },
  {
   "cell_type": "code",
   "execution_count": null,
   "id": "d1352e87-fb3a-445e-8c3b-ae247f048e97",
   "metadata": {},
   "outputs": [],
   "source": [
    "import json\n",
    "import requests \n",
    "r = requests.get('https://superduperdb-public-demo.s3.amazonaws.com/text.json')\n",
    "\n",
    "with open('text.json', 'wb') as f:\n",
    "    f.write(r.content)\n",
    "\n",
    "with open('text.json', 'r') as f:\n",
    "    data = json.load(f)        \n",
    "\n",
    "print(data[0])"
   ]
  },
  {
   "cell_type": "markdown",
   "id": "b0015cfc-d918-41c4-825b-61cea4e31a28",
   "metadata": {},
   "source": [
    "Now we connect to superduper, using MongoMock as a databackend.\n",
    "Read more about connecting to superduper [here](../core_api/connect) and\n",
    "a semi-exhaustive list of supported data-backends for connecting [here](../reusable_snippets/connect_to_superduper)."
   ]
  },
  {
   "cell_type": "code",
   "execution_count": null,
   "id": "f02a89d2-6253-4114-a0d3-f47290005007",
   "metadata": {},
   "outputs": [],
   "source": [
    "from superduper import superduper\n",
    "from superduper.base import Base\n",
    "\n",
    "db = superduper('mongomock://test')\n",
    "\n",
    "class documents(Base):\n",
    "    txt: str\n",
    "\n",
    "db.insert([documents(txt=txt) for txt in data])"
   ]
  },
  {
   "cell_type": "markdown",
   "id": "efa59ddf-e7a6-4aef-ab29-d3839df00979",
   "metadata": {},
   "source": [
    "We are going to make these data searchable by activating a [`Model`](../apply_api/model) instance \n",
    "to compute vectors for each item inserted to the `\"documents\"` collection.\n",
    "For that we'll use the [sentence-transformers](https://sbert.net/) integration to `superduper`.\n",
    "Read more about the `sentence_transformers` integration [here](../ai_integrations/sentence_transformers)\n",
    "and [here](../../api/ext/sentence_transformers/)."
   ]
  },
  {
   "cell_type": "code",
   "execution_count": null,
   "id": "97b127c5-d49a-46fe-b792-d0a745f4827c",
   "metadata": {},
   "outputs": [],
   "source": [
    "from superduper_sentence_transformers import SentenceTransformer\n",
    "\n",
    "model = SentenceTransformer(\n",
    "    identifier=\"test\",\n",
    "    predict_kwargs={\"show_progress_bar\": True},\n",
    "    model=\"all-MiniLM-L6-v2\",\n",
    "    device=\"cpu\",\n",
    "    datatype='vector[float32:384]',\n",
    ")"
   ]
  },
  {
   "cell_type": "markdown",
   "id": "abe573d8-b675-4fdc-bffb-5ba1bffd1746",
   "metadata": {},
   "source": [
    "We can check that this model gives us what we want by evaluating an output \n",
    "on a single data-point. (Learn more about the various aspects of `Model` [here](../models/).)"
   ]
  },
  {
   "cell_type": "markdown",
   "id": "7e28dda1-b8a6-4cd4-a876-3c252f718523",
   "metadata": {},
   "source": [
    "Now that we've verified that this model works, we can \"activate\" it for \n",
    "vector-search by creating a [`VectorIndex`](../apply_api/vector_index)."
   ]
  },
  {
   "cell_type": "code",
   "execution_count": null,
   "id": "1ea4a501-f656-4c65-9b4b-7a6f1a9a0ffe",
   "metadata": {},
   "outputs": [],
   "source": [
    "from superduper import VectorIndex, Listener, Model\n",
    "vector_index = VectorIndex(\n",
    "    'test_index',\n",
    "    indexing_listener=Listener(\n",
    "        'test_listener',\n",
    "        model=model,\n",
    "        select=db['documents'],\n",
    "        key='txt',\n",
    "    )\n",
    ")"
   ]
  },
  {
   "cell_type": "markdown",
   "id": "d0527e58-b259-4887-b619-f1022adc4dee",
   "metadata": {},
   "source": [
    "You will see that the `VectorIndex` contains a [`Listener`](../apply_api/listener) instance.\n",
    "This instance wraps the model, and configures it to compute outputs \n",
    "on data inserted to the `\"documents\"` collection with the key `\"txt\"`.\n",
    "\n",
    "To activate this index, we now do:"
   ]
  },
  {
   "cell_type": "code",
   "execution_count": null,
   "id": "410c5765-343a-4d7f-b929-1cb1a21e7af2",
   "metadata": {},
   "outputs": [],
   "source": [
    "db.apply(vector_index)"
   ]
  },
  {
   "cell_type": "markdown",
   "id": "eabcd2c8-c03e-4da8-912a-861fdbd82695",
   "metadata": {},
   "source": [
    "The `db.apply` command is a universal command for activating AI components in superduper.\n",
    "\n",
    "You will now see lots of output - the model-outputs/ vectors are computed \n",
    "and the various parts of the `VectorIndex` are registered in the system.\n",
    "\n",
    "You can verify this with:"
   ]
  },
  {
   "cell_type": "code",
   "execution_count": null,
   "id": "f0127821-1fc6-48ca-80b3-91de0783d19e",
   "metadata": {},
   "outputs": [],
   "source": [
    "db.show()"
   ]
  },
  {
   "cell_type": "markdown",
   "id": "d414d946-029a-4b75-aea9-c398920d8605",
   "metadata": {},
   "source": [
    "To \"use\" the `VectorIndex` we can execute a vector-search query:"
   ]
  },
  {
   "cell_type": "code",
   "execution_count": null,
   "id": "89926127-261a-4632-9f77-9176912ace6e",
   "metadata": {},
   "outputs": [],
   "source": [
    "query = db['documents'].like({'txt': 'Tell me about vector-search'}, vector_index=vector_index.identifier, n=3).select()\n",
    "results = query.execute()"
   ]
  },
  {
   "cell_type": "markdown",
   "id": "447447c3-93ec-49c2-9a1a-898d6de33466",
   "metadata": {},
   "source": [
    "This query will return a cursor of [`Document`](../fundamentals/document) instances.\n",
    "To obtain the raw dictionaries, call the `.unpack()` command:"
   ]
  },
  {
   "cell_type": "code",
   "execution_count": null,
   "id": "dc073028-4ccc-47a3-b64c-2488edfb48b2",
   "metadata": {},
   "outputs": [],
   "source": [
    "for r in results:\n",
    "    print('=' * 100)\n",
    "    print(r.unpack()['txt'])\n",
    "    print('=' * 100)"
   ]
  },
  {
   "cell_type": "markdown",
   "id": "5b34ab2f-6975-465f-a9e5-ae5c67095ac6",
   "metadata": {},
   "source": [
    "You should see that the documents returned are relevant to the `like` part of the \n",
    "query.\n",
    "\n",
    "Learn more about building queries with `superduper` [here](../execute_api/overview.md)."
   ]
  }
 ],
 "metadata": {
  "kernelspec": {
   "display_name": "Python 3 (ipykernel)",
   "language": "python",
   "name": "python3"
  },
  "language_info": {
   "codemirror_mode": {
    "name": "ipython",
    "version": 3
   },
   "file_extension": ".py",
   "mimetype": "text/x-python",
   "name": "python",
   "nbconvert_exporter": "python",
   "pygments_lexer": "ipython3",
   "version": "3.10.13"
  }
 },
 "nbformat": 4,
 "nbformat_minor": 5
}
