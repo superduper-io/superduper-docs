{
 "cells": [
  {
   "cell_type": "markdown",
   "id": "e3b803db-2301-4399-bb8f-19c79e7fb216",
   "metadata": {},
   "source": [
    "# Superduper encoding\n",
    "\n",
    "Any `Superduper` class which derives from `superduper.base.Base` (including `superduper.Component`) is serializable \n",
    "in a database friendly way.\n",
    "\n",
    "Here is a representative example of how this works for all such classes:"
   ]
  },
  {
   "cell_type": "code",
   "execution_count": null,
   "id": "b2399089-cc0f-4842-a20d-c0dcb162c22d",
   "metadata": {},
   "outputs": [],
   "source": [
    "from superduper import Component\n",
    "import typing as t\n",
    "import pprint\n",
    "\n",
    "class MyClass(Component):\n",
    "    a: str\n",
    "    b: int \n",
    "    c: t.Dict\n",
    "    d: t.Callable\n",
    "    e: Component | None = None\n",
    "\n",
    "\n",
    "my_instance_1 = MyClass('my_class', a='test', b=2, c={'testing': '123'}, d=lambda x: x + 1)\n",
    "my_instance_2 = MyClass('my_class', a='test', b=2, c={'testing': '123'}, d=lambda x: x + 1, e=my_instance_1)\n",
    "\n",
    "r = my_instance_2.encode()\n",
    "print(r)\n",
    "\n",
    "# {'identifier': 'my_class',\n",
    "#  'upstream': None,\n",
    "#  'a': 'test',\n",
    "#  'b': 2,\n",
    "#  'c': {'testing': '123'},\n",
    "#  'd': '&:blob:c6fb8b5d832ad2dc83c2eb7c4ac8ab5899414929125a9f63cd06a800deaa1edf',\n",
    "#  'e': '?MyClass:my_class',\n",
    "#  '_path': '__main__.MyClass',\n",
    "#  'version': None,\n",
    "#  'status': None,\n",
    "#  'uuid': 'dbe131726b2b2fb896eb832b3fde10df',\n",
    "#  '_builds': {'MyClass:my_class': {'upstream': None,\n",
    "#    'a': 'test',\n",
    "#    'b': 2,\n",
    "#    'c': {'testing': '123'},\n",
    "#    'd': '&:blob:75e739227d94585271ae83c710bfdcf43993755d7be9d08cf4462b8a1bff9242',\n",
    "#    'e': None,\n",
    "#    '_path': '__main__.MyClass',\n",
    "#    'version': None,\n",
    "#    'status': None,\n",
    "#    'uuid': 'dbe131726b2b2fb896eb832b3fde10df'}},\n",
    "#  '_blobs': {'c6fb8b5d832ad2dc83c2eb7c4ac8ab5899414929125a9f63cd06a800deaa1edf': b'\\x80\\x04\\x95\\x04\\x01\\x00\\x00\\x00\\x00\\x00\\x00\\x8c\\ndill._dill\\x94\\x8c\\x10_create_function\\x94\\x93\\x94(h\\x00\\x8c\\x0c_create_code\\x94\\x93\\x94(C\\x00\\x94K\\x01K\\x00K\\x00K\\x01K\\x02KCC\\x08|\\x00d\\x01\\x17\\x00S\\x00\\x94NK\\x01\\x86\\x94)\\x8c\\x01x\\x94\\x85\\x94\\x8cN/var/folders/3h/p6qzszds1c7gtbmt_2qq0tvm0000gn/T/ipykernel_10359/1592532502.py\\x94\\x8c\\x08<lambda>\\x94K\\x0eC\\x02\\x08\\x00\\x94))t\\x94R\\x94}\\x94\\x8c\\x08__name__\\x94\\x8c\\x08__main__\\x94sh\\x0bNNt\\x94R\\x94}\\x94}\\x94\\x8c\\x0f__annotations__\\x94}\\x94s\\x86\\x94b.',\n",
    "#   '75e739227d94585271ae83c710bfdcf43993755d7be9d08cf4462b8a1bff9242': b'\\x80\\x04\\x95\\x04\\x01\\x00\\x00\\x00\\x00\\x00\\x00\\x8c\\ndill._dill\\x94\\x8c\\x10_create_function\\x94\\x93\\x94(h\\x00\\x8c\\x0c_create_code\\x94\\x93\\x94(C\\x00\\x94K\\x01K\\x00K\\x00K\\x01K\\x02KCC\\x08|\\x00d\\x01\\x17\\x00S\\x00\\x94NK\\x01\\x86\\x94)\\x8c\\x01x\\x94\\x85\\x94\\x8cN/var/folders/3h/p6qzszds1c7gtbmt_2qq0tvm0000gn/T/ipykernel_10359/1592532502.py\\x94\\x8c\\x08<lambda>\\x94K\\rC\\x02\\x08\\x00\\x94))t\\x94R\\x94}\\x94\\x8c\\x08__name__\\x94\\x8c\\x08__main__\\x94sh\\x0bNNt\\x94R\\x94}\\x94}\\x94\\x8c\\x0f__annotations__\\x94}\\x94s\\x86\\x94b.'},\n",
    "#  '_files': {}}"
   ]
  },
  {
   "cell_type": "markdown",
   "id": "d9583839",
   "metadata": {},
   "source": [
    "In this example you can see that `superduper` serializes the two nested components using their parameters and class path, and \n",
    "unwraps the nested structure into a flat structure. Items which are not serializable using JSON are serialized as `bytes` \n",
    "and saved separately in the output.\n",
    "\n",
    "The developer can control this behaviour using the parameter annotations. To check the schema which `superduper` infers, developers can use:"
   ]
  },
  {
   "cell_type": "code",
   "execution_count": null,
   "id": "0195b59c-90f8-4702-b048-4f1631b8c257",
   "metadata": {},
   "outputs": [],
   "source": [
    "print(MyClass.class_schema)\n",
    "\n",
    "# identifier |   upstream    |  a  |  b  |  c   |  d   |       e       | version | status\n",
    "# -----------+---------------+-----+-----+------+------+---------------+---------+-------\n",
    "#    str     | ComponentList | str | int | JSON | Dill | ComponentType |   int   |  str  "
   ]
  }
 ],
 "metadata": {
  "kernelspec": {
   "display_name": "Python 3 (ipykernel)",
   "language": "python",
   "name": "python3"
  },
  "language_info": {
   "codemirror_mode": {
    "name": "ipython",
    "version": 3
   },
   "file_extension": ".py",
   "mimetype": "text/x-python",
   "name": "python",
   "nbconvert_exporter": "python",
   "pygments_lexer": "ipython3",
   "version": "3.10.13"
  }
 },
 "nbformat": 4,
 "nbformat_minor": 5
}
