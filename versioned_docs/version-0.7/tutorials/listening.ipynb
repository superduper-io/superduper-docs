{
 "cells": [
  {
   "cell_type": "markdown",
   "id": "aff62002-f228-4b86-8889-c8ee1bb7fa02",
   "metadata": {},
   "source": [
    "# Listening for new data\n",
    "\n",
    ":::note\n",
    "In Superduper, AI models may be configured to listen for newly inserted data.\n",
    "Outputs will be computed over that data and saved back to the data-backend.\n",
    ":::\n",
    "\n",
    "In this example we show how to configure 3 models to interact when new data is added.\n",
    "\n",
    "1. A featurizing computer vision model (images `->` vectors).\n",
    "1. 2 models evaluating image-2-text similarity to a set of key-words."
   ]
  },
  {
   "cell_type": "markdown",
   "id": "fa08a8ee-fd51-44c8-bd87-2a2d8ba15434",
   "metadata": {},
   "source": [
    "We use an open-source model \"CLIP\" which we install via `pip` directly from GitHub.\n",
    "You can read more about installing requirements on our docs [here](../get_started/environment)."
   ]
  },
  {
   "cell_type": "code",
   "execution_count": null,
   "id": "8322b3ca-d351-4214-9c78-23d0d3b8a6a1",
   "metadata": {},
   "outputs": [],
   "source": [
    "!pip install git+https://github.com/openai/CLIP.git"
   ]
  },
  {
   "cell_type": "markdown",
   "id": "53c6934d-8bb9-4922-b196-12592b89f037",
   "metadata": {},
   "source": [
    "We apply our setup to images from the \n",
    "[cats and dogs dataset](https://www.kaggle.com/c/dogs-vs-cats). We've prepared a subset especially \n",
    "for quick experimentation."
   ]
  },
  {
   "cell_type": "code",
   "execution_count": null,
   "id": "49e546ab-3433-44a3-8de0-7ee7a8960541",
   "metadata": {},
   "outputs": [],
   "source": [
    "# !curl -O https://superduperdb-public-demo.s3.amazonaws.com/images.zip && unzip images.zip\n",
    "from PIL import Image\n",
    "import os\n",
    "\n",
    "data = [f'images/{x}' for x in os.listdir('./images') if x.endswith('png')]\n",
    "data = [{'img': Image.open(path)} for path in data]"
   ]
  },
  {
   "cell_type": "markdown",
   "id": "da2f1db7-1370-4c65-8c15-065411d6b214",
   "metadata": {},
   "source": [
    "Now that we've prepared these records we can insert this data \"directly\" into the database with \n",
    "a standard insert statement. (Notice however the difference from `pymongo` with the `.execute()` call.)\n",
    "The same pattern may be applied to other database types."
   ]
  },
  {
   "cell_type": "code",
   "execution_count": null,
   "id": "065924be-8d12-40e6-a930-2f1bf6b2e28d",
   "metadata": {},
   "outputs": [],
   "source": [
    "from superduper import superduper, Document, Table\n",
    "\n",
    "db = superduper('mongomock://')\n",
    "\n",
    "table = Table('images', fields={'img': 'superduper_pillow.pil_image'})\n",
    "\n",
    "db.apply(table, force=True)\n",
    "\n",
    "_ = db['images'].insert(data[:-1])"
   ]
  },
  {
   "cell_type": "markdown",
   "id": "7df57ddc-4574-49f8-ba17-c53a8024888d",
   "metadata": {},
   "source": [
    "We can verify that the images are correctly saved by retrieved a single record:"
   ]
  },
  {
   "cell_type": "code",
   "execution_count": null,
   "id": "4b2d5fec-3e7a-4a67-ad80-f61fef8472b6",
   "metadata": {},
   "outputs": [],
   "source": [
    "r = db['images'].get()\n",
    "r['img']"
   ]
  },
  {
   "cell_type": "markdown",
   "id": "10ea86f3-8094-4dd4-bdcc-81dd49716865",
   "metadata": {},
   "source": [
    "We now build a `torch` model for text-2-image similarity using the `clip` library. In order to \n",
    "save the outputs correctly in the system, we add the `tensor` datatype to the model:"
   ]
  },
  {
   "cell_type": "code",
   "execution_count": null,
   "id": "0ef3d07b-b396-479f-bce1-568232dcfd86",
   "metadata": {},
   "outputs": [],
   "source": [
    "import clip\n",
    "import hashlib\n",
    "import torch\n",
    "from superduper_torch import TorchModel, Tensor\n",
    "\n",
    "\n",
    "model_name = \"ViT-B/32\"\n",
    "model, preprocess = clip.load(model_name, \"cpu\")\n",
    "\n",
    "class ImageModel(torch.nn.Module):\n",
    "    def __init__(self):\n",
    "        super().__init__()\n",
    "        self.model = model\n",
    "\n",
    "    def forward(self, image_tensors):\n",
    "        return self.model.encode_image(image_tensors)\n",
    "\n",
    "    def __hash__(self):\n",
    "        return int(hashlib.sha256(model_name.encode()).hexdigest(), 16)\n",
    "\n",
    "\n",
    "image_model = TorchModel(\n",
    "    identifier='clip_image',\n",
    "    object=ImageModel(),\n",
    "    preprocess=preprocess,\n",
    "    datatype='superduper_torch.Tensor[float32:512]',\n",
    "    loader_kwargs={'batch_size': 5},\n",
    ")"
   ]
  },
  {
   "cell_type": "markdown",
   "id": "eb47ca72-1b13-4c79-aec0-3499eefb1d0f",
   "metadata": {},
   "source": [
    "We can verify that this model gives us the correct outputs on the added data with the `.predict` method:"
   ]
  },
  {
   "cell_type": "markdown",
   "id": "a072cb67-bc43-4973-9b9d-aae8067ef041",
   "metadata": {},
   "source": [
    "Now we'd like to set up this model to compute outputs on the `'img'` key of each record. \n",
    "To do that we create a `Listener` (see [here](../apply_api/listener) for more information) which \n",
    "\"listens\" for incoming and existing data, and computes outputs on that data.\n",
    "\n",
    "When new data is inserted, the model automatically will create outputs on that data. This is a very handy \n",
    "feature for productionizing AI and ML, since a data deployment needs to be keep up-to-date as far as possible."
   ]
  },
  {
   "cell_type": "code",
   "execution_count": null,
   "id": "b56e896a-5c4f-4943-bc6b-9a36ef8c52b2",
   "metadata": {},
   "outputs": [],
   "source": [
    "from superduper import Listener\n",
    "\n",
    "listener = Listener(\n",
    "    'image_listener',\n",
    "    model=image_model,\n",
    "    select=db['images'],\n",
    "    key='img',\n",
    ")"
   ]
  },
  {
   "cell_type": "markdown",
   "id": "0950fff9-f86e-4197-96e6-b0cc61470522",
   "metadata": {},
   "source": [
    "Downstream of this first model, we now can add another smaller model, to classify images with configurable terms. \n",
    "Since the dataset is concerned with cats and dogs we create 2 downstream models classifying the images in 2 different ways."
   ]
  },
  {
   "cell_type": "code",
   "execution_count": null,
   "id": "d5a553db-47ba-4bdf-9644-e63cc21c405c",
   "metadata": {},
   "outputs": [],
   "source": [
    "from superduper import ObjectModel\n",
    "from superduper.misc.utils import hash_item\n",
    "\n",
    "\n",
    "class Comparer:\n",
    "    def __init__(self, words, text_features):\n",
    "        self.targets = {w: text_features[i] for i, w in enumerate(words)}\n",
    "        self.lookup = list(self.targets.keys())\n",
    "        self.matrix = torch.stack(list(self.targets.values()))\n",
    "\n",
    "    def __call__(self, vector):\n",
    "        best = (self.matrix @ vector).topk(1)[1].item()\n",
    "        return self.lookup[best]\n",
    "\n",
    "    def __hash__(self):\n",
    "        return int(hash_item(self.matrix.detach().numpy().tolist()), 16)\n",
    "\n",
    "\n",
    "cats_vs_dogs = Listener(\n",
    "    'cats_vs_dogs',\n",
    "    model=ObjectModel(\n",
    "        'cats_vs_dogs',\n",
    "        object=Comparer(['cat', 'dog'], model.encode_text(clip.tokenize(['cat', 'dog']))),\n",
    "    ),\n",
    "    select=db[listener.outputs],\n",
    "    key=listener.outputs,\n",
    "    upstream=[listener],\n",
    ")\n",
    "\n",
    "            \n",
    "felines_vs_canines = Listener(\n",
    "    'felines_vs_canines',    \n",
    "    model=ObjectModel(\n",
    "        'felines_vs_canines',\n",
    "        object=Comparer(['feline', 'canine'], model.encode_text(clip.tokenize(['feline', 'canine']))),\n",
    "    ),\n",
    "    select=db[listener.outputs],\n",
    "    key=listener.outputs,\n",
    "    upstream=[listener],\n",
    ")"
   ]
  },
  {
   "cell_type": "code",
   "execution_count": null,
   "id": "de37241e-c085-4f4a-a9f9-d9597cac5a2d",
   "metadata": {},
   "outputs": [],
   "source": [
    "from superduper import Application\n",
    "\n",
    "application = Application(\n",
    "    'animal_image_analysis',\n",
    "    components=[\n",
    "        listener,\n",
    "        cats_vs_dogs,\n",
    "        felines_vs_canines,\n",
    "    ]\n",
    ")\n",
    "\n",
    "db.apply(application)"
   ]
  },
  {
   "cell_type": "markdown",
   "id": "7b4a4ade-d2bb-4196-9b58-8f7ff732b694",
   "metadata": {},
   "source": [
    "We can verify that both downstream models have written their outputs to the database by querying a document:"
   ]
  },
  {
   "cell_type": "code",
   "execution_count": null,
   "id": "cc068d95-a889-48e6-81e6-89f931463c86",
   "metadata": {},
   "outputs": [],
   "source": [
    "r = db['images'].outputs(cats_vs_dogs.predict_id, felines_vs_canines.predict_id).get()\n",
    "\n",
    "print(r[cats_vs_dogs.outputs])\n",
    "print(r[felines_vs_canines.outputs])\n",
    "r['img']"
   ]
  },
  {
   "cell_type": "code",
   "execution_count": null,
   "id": "2fcf1b10-cd18-4a99-99cd-b94a71350bab",
   "metadata": {},
   "outputs": [],
   "source": [
    "inserted_id = db['images'].insert([data[-1]])[0]"
   ]
  },
  {
   "cell_type": "markdown",
   "id": "5b8ad176-97d0-42d8-983b-e70a7f50c220",
   "metadata": {},
   "source": [
    "We can verify this by querying the data again:"
   ]
  },
  {
   "cell_type": "code",
   "execution_count": null,
   "id": "da19733f-aee1-432f-8aee-6b5074a212d4",
   "metadata": {},
   "outputs": [],
   "source": [
    "r = db['images'].outputs(cats_vs_dogs.predict_id).get(_id=inserted_id)\n",
    "r"
   ]
  },
  {
   "cell_type": "code",
   "execution_count": null,
   "id": "eff1a717-a662-46f3-9651-79befacd5ae1",
   "metadata": {},
   "outputs": [],
   "source": [
    "r['img']"
   ]
  }
 ],
 "metadata": {
  "kernelspec": {
   "display_name": "Python 3 (ipykernel)",
   "language": "python",
   "name": "python3"
  },
  "language_info": {
   "codemirror_mode": {
    "name": "ipython",
    "version": 3
   },
   "file_extension": ".py",
   "mimetype": "text/x-python",
   "name": "python",
   "nbconvert_exporter": "python",
   "pygments_lexer": "ipython3",
   "version": "3.10.13"
  }
 },
 "nbformat": 4,
 "nbformat_minor": 5
}
