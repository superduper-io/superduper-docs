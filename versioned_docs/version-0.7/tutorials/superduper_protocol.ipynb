{
 "cells": [
  {
   "cell_type": "markdown",
   "id": "7d225e33-01e9-48ea-9676-45ea2ece4fde",
   "metadata": {},
   "source": [
    "# Superduper-protocol"
   ]
  },
  {
   "cell_type": "code",
   "execution_count": null,
   "id": "566abf9f-9ae5-4453-b33b-85e110d41c95",
   "metadata": {},
   "outputs": [],
   "source": [
    "from superduper import *\n",
    "from superduper.base import Base\n",
    "\n",
    "db = superduper('mongomock://test')"
   ]
  },
  {
   "cell_type": "code",
   "execution_count": null,
   "id": "fb874c4e-b4a0-489c-8487-282e5ddba92e",
   "metadata": {},
   "outputs": [],
   "source": [
    "import typing as t\n",
    "from superduper.misc import typing as st\n",
    "\n",
    "\n",
    "class MyClass(Component):\n",
    "    a: str\n",
    "    b: int\n",
    "    c: t.Any\n",
    "    d: Component | None = None"
   ]
  },
  {
   "cell_type": "code",
   "execution_count": null,
   "id": "734b5adc-2d09-4c38-9685-4a4c8b083404",
   "metadata": {},
   "outputs": [],
   "source": [
    "MyClass?"
   ]
  },
  {
   "cell_type": "code",
   "execution_count": null,
   "id": "0d5c4760-fe48-44c0-aa50-f5793113a171",
   "metadata": {},
   "outputs": [],
   "source": [
    "import PIL.Image\n",
    "\n",
    "i = PIL.Image.open('../../../superduper-docs/static/img/architecture.png')\n",
    "i"
   ]
  },
  {
   "cell_type": "code",
   "execution_count": null,
   "id": "51accefc-b6db-4e72-9e6f-7c6441057364",
   "metadata": {},
   "outputs": [],
   "source": [
    "mc = MyClass('my-class', a='test', b=1, c=i, d=MyClass('my-other-class', a='other', b=2, c=None, d=None))"
   ]
  },
  {
   "cell_type": "code",
   "execution_count": null,
   "id": "09f02ddd-fc1a-469a-a4d2-7c6bc259d195",
   "metadata": {},
   "outputs": [],
   "source": [
    "mc.dict()"
   ]
  },
  {
   "cell_type": "code",
   "execution_count": null,
   "id": "f242ef7f-55c8-4b81-982a-d90add7562fd",
   "metadata": {},
   "outputs": [],
   "source": [
    "MyClass.class_schema"
   ]
  },
  {
   "cell_type": "code",
   "execution_count": null,
   "id": "966c0e0b-a7f5-488e-84c5-0890ec95b792",
   "metadata": {},
   "outputs": [],
   "source": [
    "mc.encode()"
   ]
  },
  {
   "cell_type": "code",
   "execution_count": null,
   "id": "5dd82fca-b1fc-49f3-9706-fb618921913f",
   "metadata": {},
   "outputs": [],
   "source": [
    "mc.export('.')"
   ]
  },
  {
   "cell_type": "code",
   "execution_count": null,
   "id": "2a797262-128c-4e3e-a84a-9a6605eeec29",
   "metadata": {},
   "outputs": [],
   "source": [
    "reloaded = Component.read('.')"
   ]
  },
  {
   "cell_type": "code",
   "execution_count": null,
   "id": "cabf90fb-13dd-4c25-b272-3d160007373f",
   "metadata": {},
   "outputs": [],
   "source": [
    "db.apply(mc)"
   ]
  },
  {
   "cell_type": "code",
   "execution_count": null,
   "id": "e2553725-7a34-4a98-983e-cdb952cfb94c",
   "metadata": {},
   "outputs": [],
   "source": [
    "db.show('Table')"
   ]
  },
  {
   "cell_type": "code",
   "execution_count": null,
   "id": "645fcace-086a-4321-a975-726f74ecdac8",
   "metadata": {},
   "outputs": [],
   "source": [
    "import pandas\n",
    "\n",
    "pandas.DataFrame(db['MyClass'].execute())"
   ]
  },
  {
   "cell_type": "code",
   "execution_count": null,
   "id": "058f0ddf-39c9-4a39-96fd-77e3f053ee85",
   "metadata": {},
   "outputs": [],
   "source": [
    "t = db['MyClass']\n",
    "\n",
    "t.filter(t['b'] >= 2).execute()"
   ]
  },
  {
   "cell_type": "code",
   "execution_count": null,
   "id": "5b1320b6-8c69-4a96-917e-e6ad3df0d35c",
   "metadata": {},
   "outputs": [],
   "source": [
    "db.show('MyClass', 'my-class')"
   ]
  },
  {
   "cell_type": "code",
   "execution_count": null,
   "id": "1c6d8dc8-e809-477c-b605-5d8405723bc6",
   "metadata": {},
   "outputs": [],
   "source": [
    "mc.b = 3"
   ]
  },
  {
   "cell_type": "code",
   "execution_count": null,
   "id": "211d9f41-2272-40ef-b986-2cb5c7f49f6b",
   "metadata": {},
   "outputs": [],
   "source": [
    "db.apply(mc)"
   ]
  }
 ],
 "metadata": {
  "kernelspec": {
   "display_name": "Python 3 (ipykernel)",
   "language": "python",
   "name": "python3"
  },
  "language_info": {
   "codemirror_mode": {
    "name": "ipython",
    "version": 3
   },
   "file_extension": ".py",
   "mimetype": "text/x-python",
   "name": "python",
   "nbconvert_exporter": "python",
   "pygments_lexer": "ipython3",
   "version": "3.10.13"
  }
 },
 "nbformat": 4,
 "nbformat_minor": 5
}
