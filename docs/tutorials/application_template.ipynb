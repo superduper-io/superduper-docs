{
 "cells": [
  {
   "cell_type": "markdown",
   "id": "73138d72-fb53-4191-a31f-718612449c18",
   "metadata": {},
   "source": [
    "# Reusable Superduper applications "
   ]
  },
  {
   "cell_type": "markdown",
   "id": "be420b63-4013-4fb6-af48-85ceaa6a8017",
   "metadata": {},
   "source": [
    "The `Component` abstraction is designed with the aim to make `superduper` components easy to re-use in new scenarios. \n",
    "In order to do this, developers need only add the `variables` parameter to their `Component` implementations. `superduper` pre-ships with \n",
    "the `Application` component, which includes `variables`, as a starting point.\n",
    "\n",
    "During use, if an Application needs to be turned into a re-usable template, the variable values within the `Application` can be set as parameters. When re-loading the `Application`, new values can be filled in to create a new `Application`, with altered state."
   ]
  },
  {
   "cell_type": "markdown",
   "id": "4b031848-0836-43c6-90f0-ed3bb429bdfb",
   "metadata": {},
   "source": [
    ":::info\n",
    "Let’s take building an RAG application based on Superduper documentation as an example to demonstrate how to construct an application, as well as how to export and reuse it.\n",
    "\n",
    "At the same time, based on this application, we’ll create a template and apply it to the Transformers documentation.\n",
    ":::"
   ]
  },
  {
   "cell_type": "markdown",
   "id": "0fc2ab3f-21bb-49c6-8d1c-c7a5cf29d437",
   "metadata": {},
   "source": [
    "## Application"
   ]
  },
  {
   "cell_type": "markdown",
   "id": "3823919c-583c-4e4c-91ee-7b7e8712edc6",
   "metadata": {},
   "source": [
    "### Build an application"
   ]
  },
  {
   "cell_type": "markdown",
   "id": "a6948ad2-6e6d-4beb-8611-815f54fde956",
   "metadata": {},
   "source": [
    "Connect to a mongomock database to build the application. You can also use a real database if preferred."
   ]
  },
  {
   "cell_type": "code",
   "execution_count": null,
   "id": "984ff354-cc5b-4df1-9956-9a1f6627dad5",
   "metadata": {},
   "outputs": [],
   "source": [
    "from superduper import superduper\n",
    "\n",
    "db = superduper(\"mongomock://test_db\")"
   ]
  },
  {
   "cell_type": "markdown",
   "id": "06a2f05f-e4e4-4c3c-906b-cb392e368ca9",
   "metadata": {},
   "source": [
    "Insert data containing a document’s URL."
   ]
  },
  {
   "cell_type": "code",
   "execution_count": null,
   "id": "79b3bada-d149-4e78-a01e-c05f23a34cf5",
   "metadata": {},
   "outputs": [],
   "source": [
    "urls = [\n",
    "    \"https://docs.superduper.io/docs/intro\",\n",
    "]\n",
    "db[\"<var:table_name>\"].insert([{\"url\": url} for url in urls]).execute()"
   ]
  },
  {
   "cell_type": "markdown",
   "id": "45a57adc-3c2f-4e63-b046-d4f148a4fd7b",
   "metadata": {},
   "source": [
    "Install some necessary dependencies."
   ]
  },
  {
   "cell_type": "code",
   "execution_count": null,
   "id": "5a3866bd-200e-42c5-8260-14483f422861",
   "metadata": {},
   "outputs": [],
   "source": [
    "# !pip install unstructured langchain_text_splitters"
   ]
  },
  {
   "cell_type": "markdown",
   "id": "10454867-367f-4b01-8d63-eab949085073",
   "metadata": {},
   "source": [
    "Define a model to parse the URL and convert it into a markdown-formatted document."
   ]
  },
  {
   "cell_type": "code",
   "execution_count": null,
   "id": "da07de63-9fec-4cf2-a963-c4671fc70dbf",
   "metadata": {},
   "outputs": [],
   "source": [
    "def get_page(url):\n",
    "    from unstructured.partition.html import partition_html\n",
    "    from unstructured.chunking.title import chunk_by_title\n",
    "    elements = partition_html(url=url)\n",
    "    lines =[]\n",
    "    for e in elements:\n",
    "        if e.category == \"Title\":\n",
    "            if e.text == \"tip\":\n",
    "                lines.append(\">> \" + e.text)\n",
    "                continue\n",
    "            level = e.metadata.category_depth + 1\n",
    "            lines.append(\"#\" * level + \" \" + e.text)\n",
    "        elif e.category == \"ListItem\":\n",
    "            lines.append(\"- \" + e.text)\n",
    "        else:\n",
    "            lines.append(e.text)\n",
    "    \n",
    "    markdown_content = \"\\n\\n\".join(lines)\n",
    "    return markdown_content"
   ]
  },
  {
   "cell_type": "code",
   "execution_count": null,
   "id": "e29e3f7f-26e4-43b3-a1f2-2ea9b37e1ac5",
   "metadata": {},
   "outputs": [],
   "source": [
    "from superduper import ObjectModel, Listener\n",
    "\n",
    "model_page = ObjectModel(identifier=\"page\", object=get_page)\n",
    "\n",
    "listener_page = Listener(\n",
    "    'page',\n",
    "    model=model_page,\n",
    "    key=\"url\", \n",
    "    select=db[\"<var:table_name>\"].select()\n",
    ")\n",
    "\n",
    "db.apply(listener_page)"
   ]
  },
  {
   "cell_type": "markdown",
   "id": "cfc0023e-f273-41bc-959a-b5f1d218cfa4",
   "metadata": {},
   "source": [
    "Define a chunk model to parse the document and chunk it based on headers."
   ]
  },
  {
   "cell_type": "code",
   "execution_count": null,
   "id": "4b45ec42-7e43-4c8a-9f41-366e2bec588f",
   "metadata": {},
   "outputs": [],
   "source": [
    "from langchain_text_splitters import MarkdownHeaderTextSplitter\n",
    "\n",
    "def chunk(page):\n",
    "    headers_to_split_on = [\n",
    "        (\"#\", \"H1\"),\n",
    "        (\"##\", \"H2\"),\n",
    "        (\"###\", \"H3\"),\n",
    "    ]\n",
    "    markdown_splitter = MarkdownHeaderTextSplitter(headers_to_split_on)\n",
    "    md_header_splits = markdown_splitter.split_text(page)\n",
    "    \n",
    "    chunks = []\n",
    "    for md_header_split in md_header_splits:\n",
    "        metadata = md_header_split.metadata\n",
    "        header_text = \"\"\n",
    "        for tag, h in headers_to_split_on:\n",
    "            if h not in metadata:\n",
    "                continue\n",
    "            header_text += tag + \" \" + metadata.get(h) + \"\\n\"\n",
    "        chunk = header_text + md_header_split.page_content\n",
    "        chunks.append(chunk)\n",
    "    return chunks"
   ]
  },
  {
   "cell_type": "code",
   "execution_count": null,
   "id": "1df84fb0-1641-46b7-ac5f-8634c5477b17",
   "metadata": {},
   "outputs": [],
   "source": [
    "from superduper import ObjectModel\n",
    "\n",
    "model_chunk = ObjectModel(identifier=\"chunk\", object=chunk, flatten=True)\n",
    "\n",
    "listener_chunk = Listener(\n",
    "    \"chunk\",\n",
    "    model=model_chunk,\n",
    "    key=listener_page.outputs,\n",
    "    select=listener_page.outputs_select，\n",
    ")\n",
    "\n",
    "db.apply(listener_chunk)"
   ]
  },
  {
   "cell_type": "markdown",
   "id": "f1125ac8-e761-41f4-a153-161906539437",
   "metadata": {},
   "source": [
    "Use OpenAI embeddings to build a vector index."
   ]
  },
  {
   "cell_type": "code",
   "execution_count": null,
   "id": "aab86e20-7712-454f-bc65-107d3a360ddc",
   "metadata": {},
   "outputs": [],
   "source": [
    "from superduper_openai import OpenAIEmbedding\n",
    "from superduper import VectorIndex, Listener\n",
    "\n",
    "model_embedding = OpenAIEmbedding(identifier='text-embedding-ada-002', datatype='vector[float64:1024]')   \n",
    "\n",
    "listener_embedding = Listener(\n",
    "    \"embedding\",\n",
    "    model=model_embedding,\n",
    "    key=listener_chunk.outputs,\n",
    "    select=db[listener_chunk.outputs]，\n",
    ")\n",
    "\n",
    "vector_index = VectorIndex(\n",
    "    identifier=\"my-index\",\n",
    "    indexing_listener=listener_embedding,\n",
    "    measure=\"cosine\"\n",
    ")\n",
    "\n",
    "db.apply(vector_index)"
   ]
  },
  {
   "cell_type": "markdown",
   "id": "bfd02c1a-ebe4-4509-8811-b1be84c11a83",
   "metadata": {},
   "source": [
    "Define a RAG model that first performs a vector search, constructs a prompt, and then passes it to the LLM model for answer generation"
   ]
  },
  {
   "cell_type": "code",
   "execution_count": null,
   "id": "ecaf8339-f02a-4755-8009-439cff79542a",
   "metadata": {},
   "outputs": [],
   "source": [
    "from superduper.ext.llm.prompter import *\n",
    "from superduper import Document\n",
    "from superduper.components.model import SequentialModel\n",
    "from superduper_openai import OpenAIChatCompletion\n",
    "\n",
    "key = listener_chunk.outputs\n",
    "\n",
    "q = db[key].like({key: \"<var:prompt>\"}, vector_index='my-index', n=5).select()\n",
    "\n",
    "def get_output(c):\n",
    "    c = sorted(c, key=lambda x:x['score'], reverse=True)\n",
    "    return [r[key] for r in c]\n",
    "\n",
    "prompt_template = RetrievalPrompt('my-prompt', select=q, postprocess=get_output)\n",
    "prompt_template.db = db\n",
    "\n",
    "llm = OpenAIChatCompletion('gpt-3.5-turbo')\n",
    "rag = SequentialModel('rag', models=[prompt_template, llm])"
   ]
  },
  {
   "cell_type": "code",
   "execution_count": null,
   "id": "1100825e-e400-4963-9a5d-cf66c3af9251",
   "metadata": {},
   "outputs": [],
   "source": []
  },
  {
   "cell_type": "markdown",
   "id": "d9efafc0-3ed2-4ed2-b703-ef0a9de14387",
   "metadata": {},
   "source": [
    "Build an application using the build_from_db method, which will automatically package all components from the database into a single application."
   ]
  },
  {
   "cell_type": "code",
   "execution_count": null,
   "id": "a650ebd4-9175-4a11-b76f-13c4c45b7371",
   "metadata": {},
   "outputs": [],
   "source": [
    "from superduper import Application\n",
    "\n",
    "application = Application(\n",
    "    'doc-qa',\n",
    "    components=[rag, vector_index],\n",
    "    variables={'table_name': 'example_table'} # this signifies the default variable values.\n",
    ")"
   ]
  },
  {
   "cell_type": "code",
   "execution_count": null,
   "id": "354738e7-13f3-4d78-8a97-ebc698ee7cfd",
   "metadata": {},
   "outputs": [],
   "source": [
    "db.apply(application)"
   ]
  },
  {
   "cell_type": "code",
   "execution_count": null,
   "id": "99672df8-0465-41dc-b302-d1e6d95136a0",
   "metadata": {},
   "outputs": [],
   "source": [
    "rag = db.load('SequentialModel', 'rag')\n",
    "\n",
    "print(rag.predict(\"What important additional aspects does Superduper include?\"))"
   ]
  },
  {
   "cell_type": "markdown",
   "id": "bd8df076-085d-4b69-9026-2f70a178fc96",
   "metadata": {},
   "source": [
    "### Export application"
   ]
  },
  {
   "cell_type": "markdown",
   "id": "3cbadc40-6b31-4143-963a-c2a88385256d",
   "metadata": {},
   "source": [
    "We can use the `.export` function to export the application."
   ]
  },
  {
   "cell_type": "code",
   "execution_count": null,
   "id": "1240a608-077b-4c83-ae79-b2c96996761e",
   "metadata": {},
   "outputs": [],
   "source": [
    "application.export(\"exports/application\")"
   ]
  },
  {
   "cell_type": "code",
   "execution_count": null,
   "id": "a9516c86-cf97-4690-bdcc-4e295f8ea188",
   "metadata": {},
   "outputs": [],
   "source": [
    "!cat exports/application/component.json | jq ."
   ]
  },
  {
   "cell_type": "markdown",
   "id": "f8f98c9e-b848-4da9-ad4b-3ab5aad67706",
   "metadata": {},
   "source": [
    "### Reuse application"
   ]
  },
  {
   "cell_type": "markdown",
   "id": "e970ce6f-4729-41d0-8f95-75c4ea7e2b4e",
   "metadata": {},
   "source": [
    "We connect to a new database and load the application."
   ]
  },
  {
   "cell_type": "code",
   "execution_count": null,
   "id": "0ca115e5-5ed0-4e70-a35c-b5fff237fd97",
   "metadata": {},
   "outputs": [],
   "source": [
    "from superduper import superduper\n",
    "db = superduper(\"mongomock://test_db\")\n",
    "db.show()"
   ]
  },
  {
   "cell_type": "code",
   "execution_count": null,
   "id": "3ebcd246-64da-4a4e-9f3d-14c9ce5a77fb",
   "metadata": {},
   "outputs": [],
   "source": [
    "from superduper import Component\n",
    "\n",
    "application = Component.read(\"exports/application/\", table_name='new_table')\n",
    "db.apply(application)"
   ]
  },
  {
   "cell_type": "markdown",
   "id": "44693f17-a1d5-44b4-83ad-570e6bb3a2c7",
   "metadata": {},
   "source": [
    "After inserting new data, all listeners will follow the expected logic and dependency relationships to run the corresponding models on the inserted data and obtain the relevant results."
   ]
  },
  {
   "cell_type": "code",
   "execution_count": null,
   "id": "8d3f9b93-2132-4986-ae1a-7c220b6cf5f4",
   "metadata": {},
   "outputs": [],
   "source": [
    "urls = [\n",
    "    \"https://docs.superduper.io/docs/intro\",\n",
    "]\n",
    "db[\"example_table\"].insert([{\"url\": url} for url in urls]).execute()"
   ]
  },
  {
   "cell_type": "markdown",
   "id": "20d9b7cc-94b3-4ef1-a01e-d40c89e7f259",
   "metadata": {},
   "source": [
    "We can load the RAG model to perform predictions"
   ]
  },
  {
   "cell_type": "code",
   "execution_count": null,
   "id": "bf973901-6073-4da5-8bd3-6e8f53ed473a",
   "metadata": {},
   "outputs": [],
   "source": [
    "rag = db.load(\"model\", \"rag\")\n",
    "rag.predict(\"What integrations does Superduper include?\")"
   ]
  }
 ],
 "metadata": {
  "kernelspec": {
   "display_name": "Python 3 (ipykernel)",
   "language": "python",
   "name": "python3"
  },
  "language_info": {
   "codemirror_mode": {
    "name": "ipython",
    "version": 3
   },
   "file_extension": ".py",
   "mimetype": "text/x-python",
   "name": "python",
   "nbconvert_exporter": "python",
   "pygments_lexer": "ipython3",
   "version": "3.10.13"
  }
 },
 "nbformat": 4,
 "nbformat_minor": 5
}
