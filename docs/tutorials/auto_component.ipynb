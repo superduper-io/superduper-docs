{
 "cells": [
  {
   "cell_type": "markdown",
   "id": "e5adf0a0-1866-4210-878c-0da7953169b7",
   "metadata": {},
   "source": [
    "# Using AI to self-referentially create Superduper components"
   ]
  },
  {
   "cell_type": "markdown",
   "id": "4d063fcc-70ce-4daf-a1cb-3f0a7eaad496",
   "metadata": {},
   "source": [
    "In this example we create a component which can create tasks which run on Superduper.\n",
    "In order to prevent the AI generating arbitrary potentially insecure code, we constrain\n",
    "the model to only output the parameters of the target component type `NewClass`."
   ]
  },
  {
   "cell_type": "code",
   "execution_count": null,
   "id": "82ecb701-0673-4a74-8c98-ff0b7b80ec26",
   "metadata": {},
   "outputs": [],
   "source": [
    "import json\n",
    "from litellm import completion\n",
    "from superduper import Component \n",
    "import typing as t\n",
    "\n",
    "\n",
    "PROMPT = \"\"\"Here is the source code of a `superduper.Component` subclass: {name}.\n",
    "```python\n",
    "{source_code}\n",
    "```\n",
    "\n",
    "It is a standard dataclass, with methods which access the dataclass fields.\n",
    "These fields are as follows:\n",
    "{fields}\n",
    "\n",
    "Your goal is to specify the fields of this dataclass in order to perform \n",
    "the task specified in the following question, using the methods of the dataclass.\n",
    "\n",
    "The task is specifying in the provided question.:\n",
    "\"\"\"\n",
    "\n",
    "\n",
    "class AutoPrompt(Component):\n",
    "    schema: t.Type[Component]\n",
    "\n",
    "    @property\n",
    "    def prompt(self):\n",
    "        source_code = self.schema.source_code\n",
    "        name = self.schema.__name__\n",
    "        fields = list(self.schema.class_schema.fields.keys())\n",
    "        fields = '\\n'.join(['- ' + f for f in fields]) + '\\n'\n",
    "\n",
    "        return PROMPT.format(\n",
    "            name=name,\n",
    "            source_code=source_code,\n",
    "            fields=fields\n",
    "        )\n",
    "\n",
    "    def predict(self, question: str):\n",
    "        messages = [\n",
    "            {\n",
    "                'role': 'system',\n",
    "                'content': self.prompt,\n",
    "            },\n",
    "            {\n",
    "                'role': 'user',\n",
    "                'content': question,\n",
    "            }\n",
    "        ]\n",
    "        data = completion(\n",
    "            model='gpt-4o',\n",
    "            messages=messages,\n",
    "            response_format=self.schema.pydantic\n",
    "        ).choices[0].message.content\n",
    "\n",
    "        try:\n",
    "            data = json.loads(data)\n",
    "        except json.JSONDecodeError:\n",
    "            return None\n",
    "\n",
    "        if data.get('identifier') is None:\n",
    "            data['identifier'] = 'task'\n",
    "        \n",
    "        return self.schema(**data)"
   ]
  },
  {
   "cell_type": "code",
   "execution_count": null,
   "id": "868706c0-9e9d-4b94-80b3-835c5f22081e",
   "metadata": {},
   "outputs": [],
   "source": [
    "class NewClass(Component):\n",
    "    prompt: str\n",
    "    def process(self, text: str):\n",
    "        return self.llm_completion(self.prompt)"
   ]
  },
  {
   "cell_type": "code",
   "execution_count": null,
   "id": "73953507-b343-4c1f-a477-3d3c2463fc97",
   "metadata": {},
   "outputs": [],
   "source": [
    "ap = AutoPrompt('auto', schema=NewClass)"
   ]
  },
  {
   "cell_type": "code",
   "execution_count": null,
   "id": "de8788a3-ae22-43ee-abff-7b457ee0069f",
   "metadata": {},
   "outputs": [],
   "source": [
    "nc = ap.predict('Create a task to extract the year from an unstructured text')"
   ]
  },
  {
   "cell_type": "code",
   "execution_count": null,
   "id": "64b6cf11-ff50-449b-b7ab-926e7d018f06",
   "metadata": {},
   "outputs": [],
   "source": [
    "dict(nc.dict())"
   ]
  },
  {
   "cell_type": "code",
   "execution_count": null,
   "id": "388396fe-30e5-436a-b678-071ab5f03557",
   "metadata": {},
   "outputs": [],
   "source": []
  }
 ],
 "metadata": {
  "kernelspec": {
   "display_name": "Python 3 (ipykernel)",
   "language": "python",
   "name": "python3"
  },
  "language_info": {
   "codemirror_mode": {
    "name": "ipython",
    "version": 3
   },
   "file_extension": ".py",
   "mimetype": "text/x-python",
   "name": "python",
   "nbconvert_exporter": "python",
   "pygments_lexer": "ipython3",
   "version": "3.10.13"
  }
 },
 "nbformat": 4,
 "nbformat_minor": 5
}
